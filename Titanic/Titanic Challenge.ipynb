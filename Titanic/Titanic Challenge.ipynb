{
 "cells": [
  {
   "cell_type": "code",
   "execution_count": 95,
   "metadata": {
    "collapsed": true
   },
   "outputs": [],
   "source": [
    "%matplotlib inline\n",
    "\n",
    "import os\n",
    "import pandas as pd\n",
    "from sklearn.linear_model import LogisticRegression"
   ]
  },
  {
   "cell_type": "markdown",
   "metadata": {},
   "source": [
    "### Read the data"
   ]
  },
  {
   "cell_type": "code",
   "execution_count": 305,
   "metadata": {
    "collapsed": true
   },
   "outputs": [],
   "source": [
    "train = r'train.csv'\n",
    "test = r'test.csv'\n",
    "path = r'/Users/alex/.kaggle/competitions/titanic'\n",
    "train = os.path.join(path, train)\n",
    "test = os.path.join(path, test)\n",
    "df = pd.read_csv(train)\n",
    "df_test = pd.read_csv(test)"
   ]
  },
  {
   "cell_type": "code",
   "execution_count": 306,
   "metadata": {},
   "outputs": [
    {
     "name": "stdout",
     "output_type": "stream",
     "text": [
      "418\n"
     ]
    }
   ],
   "source": [
    "print(len(df_test))"
   ]
  },
  {
   "cell_type": "markdown",
   "metadata": {},
   "source": [
    "drop 'Embarked' column because the ports people embark on should have any effect"
   ]
  },
  {
   "cell_type": "code",
   "execution_count": 307,
   "metadata": {},
   "outputs": [
    {
     "name": "stdout",
     "output_type": "stream",
     "text": [
      "   PassengerId  Survived  Pclass  \\\n",
      "0            1         0       3   \n",
      "1            2         1       1   \n",
      "2            3         1       3   \n",
      "3            4         1       1   \n",
      "4            5         0       3   \n",
      "\n",
      "                                                Name     Sex  SibSp  Parch  \\\n",
      "0                            Braund, Mr. Owen Harris    male      1      0   \n",
      "1  Cumings, Mrs. John Bradley (Florence Briggs Th...  female      1      0   \n",
      "2                             Heikkinen, Miss. Laina  female      0      0   \n",
      "3       Futrelle, Mrs. Jacques Heath (Lily May Peel)  female      1      0   \n",
      "4                           Allen, Mr. William Henry    male      0      0   \n",
      "\n",
      "             Ticket     Fare  \n",
      "0         A/5 21171   7.2500  \n",
      "1          PC 17599  71.2833  \n",
      "2  STON/O2. 3101282   7.9250  \n",
      "3            113803  53.1000  \n",
      "4            373450   8.0500  \n",
      "   PassengerId  Pclass                                          Name     Sex  \\\n",
      "0          892       3                              Kelly, Mr. James    male   \n",
      "1          893       3              Wilkes, Mrs. James (Ellen Needs)  female   \n",
      "2          894       2                     Myles, Mr. Thomas Francis    male   \n",
      "3          895       3                              Wirz, Mr. Albert    male   \n",
      "4          896       3  Hirvonen, Mrs. Alexander (Helga E Lindqvist)  female   \n",
      "\n",
      "   SibSp  Parch   Ticket Embarked  \n",
      "0      0      0   330911        Q  \n",
      "1      1      0   363272        S  \n",
      "2      0      0   240276        Q  \n",
      "3      0      0   315154        S  \n",
      "4      1      1  3101298        S  \n"
     ]
    }
   ],
   "source": [
    "df = df.dropna(axis=1, how='any')\n",
    "df_test = df_test.dropna(axis=1, how='any')\n",
    "\n",
    "print(df.head())\n",
    "print(df_test.head())\n"
   ]
  },
  {
   "cell_type": "code",
   "execution_count": 308,
   "metadata": {
    "collapsed": true
   },
   "outputs": [],
   "source": [
    "df = df.drop(['Name','Ticket','PassengerId','Fare'], axis=1)\n",
    "passenger_id = df_test['PassengerId']\n",
    "df_test = df_test.drop(['Embarked','Name','Ticket', 'PassengerId'], axis=1)"
   ]
  },
  {
   "cell_type": "code",
   "execution_count": 309,
   "metadata": {},
   "outputs": [
    {
     "name": "stdout",
     "output_type": "stream",
     "text": [
      "   Survived  Pclass     Sex  SibSp  Parch\n",
      "0         0       3    male      1      0\n",
      "1         1       1  female      1      0\n",
      "2         1       3  female      0      0\n",
      "3         1       1  female      1      0\n",
      "4         0       3    male      0      0\n"
     ]
    }
   ],
   "source": [
    "print(df.head())"
   ]
  },
  {
   "cell_type": "code",
   "execution_count": 310,
   "metadata": {},
   "outputs": [
    {
     "name": "stdout",
     "output_type": "stream",
     "text": [
      "   Pclass     Sex  SibSp  Parch\n",
      "0       3    male      0      0\n",
      "1       3  female      1      0\n",
      "2       2    male      0      0\n",
      "3       3    male      0      0\n",
      "4       3  female      1      1\n"
     ]
    }
   ],
   "source": [
    "print(df_test.head())"
   ]
  },
  {
   "cell_type": "code",
   "execution_count": 311,
   "metadata": {},
   "outputs": [
    {
     "name": "stdout",
     "output_type": "stream",
     "text": [
      "0       892\n",
      "1       893\n",
      "2       894\n",
      "3       895\n",
      "4       896\n",
      "5       897\n",
      "6       898\n",
      "7       899\n",
      "8       900\n",
      "9       901\n",
      "10      902\n",
      "11      903\n",
      "12      904\n",
      "13      905\n",
      "14      906\n",
      "15      907\n",
      "16      908\n",
      "17      909\n",
      "18      910\n",
      "19      911\n",
      "20      912\n",
      "21      913\n",
      "22      914\n",
      "23      915\n",
      "24      916\n",
      "25      917\n",
      "26      918\n",
      "27      919\n",
      "28      920\n",
      "29      921\n",
      "       ... \n",
      "388    1280\n",
      "389    1281\n",
      "390    1282\n",
      "391    1283\n",
      "392    1284\n",
      "393    1285\n",
      "394    1286\n",
      "395    1287\n",
      "396    1288\n",
      "397    1289\n",
      "398    1290\n",
      "399    1291\n",
      "400    1292\n",
      "401    1293\n",
      "402    1294\n",
      "403    1295\n",
      "404    1296\n",
      "405    1297\n",
      "406    1298\n",
      "407    1299\n",
      "408    1300\n",
      "409    1301\n",
      "410    1302\n",
      "411    1303\n",
      "412    1304\n",
      "413    1305\n",
      "414    1306\n",
      "415    1307\n",
      "416    1308\n",
      "417    1309\n",
      "Name: PassengerId, Length: 418, dtype: int64\n"
     ]
    }
   ],
   "source": [
    "print(passenger_id)"
   ]
  },
  {
   "cell_type": "code",
   "execution_count": 312,
   "metadata": {
    "scrolled": true
   },
   "outputs": [
    {
     "data": {
      "text/html": [
       "<div>\n",
       "<style>\n",
       "    .dataframe thead tr:only-child th {\n",
       "        text-align: right;\n",
       "    }\n",
       "\n",
       "    .dataframe thead th {\n",
       "        text-align: left;\n",
       "    }\n",
       "\n",
       "    .dataframe tbody tr th {\n",
       "        vertical-align: top;\n",
       "    }\n",
       "</style>\n",
       "<table border=\"1\" class=\"dataframe\">\n",
       "  <thead>\n",
       "    <tr style=\"text-align: right;\">\n",
       "      <th></th>\n",
       "      <th>Survived</th>\n",
       "      <th>Pclass</th>\n",
       "      <th>Sex</th>\n",
       "      <th>SibSp</th>\n",
       "      <th>Parch</th>\n",
       "    </tr>\n",
       "  </thead>\n",
       "  <tbody>\n",
       "    <tr>\n",
       "      <th>0</th>\n",
       "      <td>0</td>\n",
       "      <td>3</td>\n",
       "      <td>male</td>\n",
       "      <td>1</td>\n",
       "      <td>0</td>\n",
       "    </tr>\n",
       "    <tr>\n",
       "      <th>1</th>\n",
       "      <td>1</td>\n",
       "      <td>1</td>\n",
       "      <td>female</td>\n",
       "      <td>1</td>\n",
       "      <td>0</td>\n",
       "    </tr>\n",
       "    <tr>\n",
       "      <th>2</th>\n",
       "      <td>1</td>\n",
       "      <td>3</td>\n",
       "      <td>female</td>\n",
       "      <td>0</td>\n",
       "      <td>0</td>\n",
       "    </tr>\n",
       "    <tr>\n",
       "      <th>3</th>\n",
       "      <td>1</td>\n",
       "      <td>1</td>\n",
       "      <td>female</td>\n",
       "      <td>1</td>\n",
       "      <td>0</td>\n",
       "    </tr>\n",
       "    <tr>\n",
       "      <th>4</th>\n",
       "      <td>0</td>\n",
       "      <td>3</td>\n",
       "      <td>male</td>\n",
       "      <td>0</td>\n",
       "      <td>0</td>\n",
       "    </tr>\n",
       "  </tbody>\n",
       "</table>\n",
       "</div>"
      ],
      "text/plain": [
       "   Survived  Pclass     Sex  SibSp  Parch\n",
       "0         0       3    male      1      0\n",
       "1         1       1  female      1      0\n",
       "2         1       3  female      0      0\n",
       "3         1       1  female      1      0\n",
       "4         0       3    male      0      0"
      ]
     },
     "execution_count": 312,
     "metadata": {},
     "output_type": "execute_result"
    }
   ],
   "source": [
    "df.head()"
   ]
  },
  {
   "cell_type": "code",
   "execution_count": 313,
   "metadata": {},
   "outputs": [],
   "source": [
    "#df.replace({'Sex': {'male': True, 'female': False}})\n",
    "df['Sex'] = df['Sex'].map({'male': 0, 'female': 1})\n",
    "\n",
    "df_test['Sex'] = df_test['Sex'].map({'male': 0, 'female': 1})"
   ]
  },
  {
   "cell_type": "code",
   "execution_count": 314,
   "metadata": {
    "collapsed": true
   },
   "outputs": [],
   "source": [
    "#grouping of age\n"
   ]
  },
  {
   "cell_type": "code",
   "execution_count": 315,
   "metadata": {},
   "outputs": [],
   "source": [
    "x_train = df.drop(['Survived'], axis=1)\n",
    "y_train = df['Survived']"
   ]
  },
  {
   "cell_type": "code",
   "execution_count": 316,
   "metadata": {
    "collapsed": true
   },
   "outputs": [],
   "source": [
    "# create an instance of the model\n",
    "logisticRegr = LogisticRegression()"
   ]
  },
  {
   "cell_type": "code",
   "execution_count": 317,
   "metadata": {},
   "outputs": [],
   "source": [
    "model = logisticRegr.fit(x_train, y_train)"
   ]
  },
  {
   "cell_type": "code",
   "execution_count": 318,
   "metadata": {},
   "outputs": [
    {
     "name": "stdout",
     "output_type": "stream",
     "text": [
      "     Pclass  Sex  SibSp  Parch\n",
      "0         3    0      0      0\n",
      "1         3    1      1      0\n",
      "2         2    0      0      0\n",
      "3         3    0      0      0\n",
      "4         3    1      1      1\n",
      "5         3    0      0      0\n",
      "6         3    1      0      0\n",
      "7         2    0      1      1\n",
      "8         3    1      0      0\n",
      "9         3    0      2      0\n",
      "10        3    0      0      0\n",
      "11        1    0      0      0\n",
      "12        1    1      1      0\n",
      "13        2    0      1      0\n",
      "14        1    1      1      0\n",
      "15        2    1      1      0\n",
      "16        2    0      0      0\n",
      "17        3    0      0      0\n",
      "18        3    1      1      0\n",
      "19        3    1      0      0\n",
      "20        1    0      1      0\n",
      "21        3    0      0      1\n",
      "22        1    1      0      0\n",
      "23        1    0      0      1\n",
      "24        1    1      1      3\n",
      "25        3    0      1      0\n",
      "26        1    1      0      1\n",
      "27        3    0      0      0\n",
      "28        1    0      0      0\n",
      "29        3    0      2      0\n",
      "..      ...  ...    ...    ...\n",
      "388       3    0      0      0\n",
      "389       3    0      3      1\n",
      "390       1    0      0      0\n",
      "391       1    1      0      1\n",
      "392       3    0      0      2\n",
      "393       2    0      0      0\n",
      "394       3    0      3      1\n",
      "395       1    1      1      0\n",
      "396       3    0      0      0\n",
      "397       1    1      1      1\n",
      "398       3    0      0      0\n",
      "399       3    0      0      0\n",
      "400       1    1      0      0\n",
      "401       2    0      1      0\n",
      "402       1    1      0      1\n",
      "403       1    0      0      0\n",
      "404       1    0      1      0\n",
      "405       2    0      0      0\n",
      "406       2    0      1      0\n",
      "407       1    0      1      1\n",
      "408       3    1      0      0\n",
      "409       3    1      1      1\n",
      "410       3    1      0      0\n",
      "411       1    1      1      0\n",
      "412       3    1      0      0\n",
      "413       3    0      0      0\n",
      "414       1    1      0      0\n",
      "415       3    0      0      0\n",
      "416       3    0      0      0\n",
      "417       3    0      1      1\n",
      "\n",
      "[418 rows x 4 columns]\n"
     ]
    }
   ],
   "source": [
    "x_test = df_test\n",
    "print(x_test)"
   ]
  },
  {
   "cell_type": "code",
   "execution_count": 319,
   "metadata": {},
   "outputs": [
    {
     "name": "stdout",
     "output_type": "stream",
     "text": [
      "[0 1 0 0 1 0 1 0 1 0 0 0 1 0 1 1 0 0 1 1 0 0 1 0 1 0 1 0 0 0 0 0 1 1 0 0 1\n",
      " 1 0 0 0 0 0 1 1 0 0 0 1 1 0 0 1 1 0 0 0 0 0 1 0 0 0 1 0 1 1 0 0 1 1 0 1 0\n",
      " 1 0 0 1 0 1 0 0 0 0 0 0 1 1 1 0 1 0 1 0 0 0 1 0 1 0 1 0 0 0 1 0 0 0 0 0 0\n",
      " 1 1 1 1 0 0 1 0 1 1 0 1 0 0 1 0 1 0 0 0 0 1 0 0 0 0 0 1 0 0 1 0 0 0 0 0 0\n",
      " 0 0 1 0 0 1 0 0 1 1 0 1 1 0 1 0 0 1 0 0 1 1 0 0 0 0 0 1 1 0 1 1 0 0 1 0 1\n",
      " 0 1 0 0 0 0 0 0 0 0 0 0 1 0 1 1 0 0 1 0 0 1 0 1 0 0 0 0 1 0 0 1 0 1 0 1 0\n",
      " 1 0 1 1 0 1 0 0 0 1 0 0 0 0 0 0 1 1 1 1 0 0 0 0 1 0 1 1 1 0 0 0 0 0 0 0 1\n",
      " 0 0 0 1 1 0 0 0 0 1 0 0 0 1 1 0 1 0 0 0 0 1 0 1 1 1 0 0 0 0 0 0 1 0 0 0 0\n",
      " 1 0 0 0 0 0 0 0 1 1 0 0 0 1 0 0 0 1 1 1 0 0 0 0 0 0 0 0 1 0 1 0 0 0 1 0 0\n",
      " 1 0 0 0 0 0 0 0 0 0 1 0 1 0 1 0 1 1 0 0 0 1 0 1 0 0 1 0 1 1 0 1 1 0 1 1 0\n",
      " 0 1 0 0 1 1 1 0 0 0 0 0 1 1 0 1 0 0 0 0 0 1 0 0 0 1 0 1 0 0 1 0 1 0 0 0 0\n",
      " 0 1 1 1 1 1 0 1 0 0 0]\n"
     ]
    }
   ],
   "source": [
    "# Returns a NumPy Array\n",
    "# Predict for One Observation (image)\n",
    "pred = logisticRegr.predict(x_test)\n",
    "print(pred)"
   ]
  },
  {
   "cell_type": "code",
   "execution_count": 320,
   "metadata": {},
   "outputs": [],
   "source": [
    "#pd.DataFrame(passenger_id, columns=['PassengerId']).to_csv('prediction.csv')"
   ]
  },
  {
   "cell_type": "code",
   "execution_count": 321,
   "metadata": {},
   "outputs": [],
   "source": [
    "pred = pd.Series(pred)\n",
    "passenger_id = pd.Series(passenger_id).reset_index()\n",
    "passenger_id = passenger_id.drop(['index'], axis=1)\n",
    "#print(passenger_id)\n",
    "\n",
    "\n"
   ]
  },
  {
   "cell_type": "code",
   "execution_count": 322,
   "metadata": {},
   "outputs": [
    {
     "name": "stdout",
     "output_type": "stream",
     "text": [
      "     PassengerId\n",
      "0            892\n",
      "1            893\n",
      "2            894\n",
      "3            895\n",
      "4            896\n",
      "5            897\n",
      "6            898\n",
      "7            899\n",
      "8            900\n",
      "9            901\n",
      "10           902\n",
      "11           903\n",
      "12           904\n",
      "13           905\n",
      "14           906\n",
      "15           907\n",
      "16           908\n",
      "17           909\n",
      "18           910\n",
      "19           911\n",
      "20           912\n",
      "21           913\n",
      "22           914\n",
      "23           915\n",
      "24           916\n",
      "25           917\n",
      "26           918\n",
      "27           919\n",
      "28           920\n",
      "29           921\n",
      "..           ...\n",
      "388         1280\n",
      "389         1281\n",
      "390         1282\n",
      "391         1283\n",
      "392         1284\n",
      "393         1285\n",
      "394         1286\n",
      "395         1287\n",
      "396         1288\n",
      "397         1289\n",
      "398         1290\n",
      "399         1291\n",
      "400         1292\n",
      "401         1293\n",
      "402         1294\n",
      "403         1295\n",
      "404         1296\n",
      "405         1297\n",
      "406         1298\n",
      "407         1299\n",
      "408         1300\n",
      "409         1301\n",
      "410         1302\n",
      "411         1303\n",
      "412         1304\n",
      "413         1305\n",
      "414         1306\n",
      "415         1307\n",
      "416         1308\n",
      "417         1309\n",
      "\n",
      "[418 rows x 1 columns]\n"
     ]
    }
   ],
   "source": [
    "print(passenger_id)"
   ]
  },
  {
   "cell_type": "code",
   "execution_count": 323,
   "metadata": {
    "collapsed": true
   },
   "outputs": [],
   "source": [
    "prediction = pd.concat([passenger_id, pred], axis=1, join_axes=[passenger_id.index], ignore_index=True)\n",
    "\n",
    "#prediction = pd.DataFrame({'PassengerId': passenger_id, 'Survived': pred})"
   ]
  },
  {
   "cell_type": "code",
   "execution_count": 324,
   "metadata": {},
   "outputs": [
    {
     "name": "stdout",
     "output_type": "stream",
     "text": [
      "     PassengerId  Survived\n",
      "0            892         0\n",
      "1            893         1\n",
      "2            894         0\n",
      "3            895         0\n",
      "4            896         1\n",
      "5            897         0\n",
      "6            898         1\n",
      "7            899         0\n",
      "8            900         1\n",
      "9            901         0\n",
      "10           902         0\n",
      "11           903         0\n",
      "12           904         1\n",
      "13           905         0\n",
      "14           906         1\n",
      "15           907         1\n",
      "16           908         0\n",
      "17           909         0\n",
      "18           910         1\n",
      "19           911         1\n",
      "20           912         0\n",
      "21           913         0\n",
      "22           914         1\n",
      "23           915         0\n",
      "24           916         1\n",
      "25           917         0\n",
      "26           918         1\n",
      "27           919         0\n",
      "28           920         0\n",
      "29           921         0\n",
      "..           ...       ...\n",
      "388         1280         0\n",
      "389         1281         0\n",
      "390         1282         0\n",
      "391         1283         1\n",
      "392         1284         0\n",
      "393         1285         0\n",
      "394         1286         0\n",
      "395         1287         1\n",
      "396         1288         0\n",
      "397         1289         1\n",
      "398         1290         0\n",
      "399         1291         0\n",
      "400         1292         1\n",
      "401         1293         0\n",
      "402         1294         1\n",
      "403         1295         0\n",
      "404         1296         0\n",
      "405         1297         0\n",
      "406         1298         0\n",
      "407         1299         0\n",
      "408         1300         1\n",
      "409         1301         1\n",
      "410         1302         1\n",
      "411         1303         1\n",
      "412         1304         1\n",
      "413         1305         0\n",
      "414         1306         1\n",
      "415         1307         0\n",
      "416         1308         0\n",
      "417         1309         0\n",
      "\n",
      "[418 rows x 2 columns]\n"
     ]
    }
   ],
   "source": [
    "prediction.columns = ['PassengerId', 'Survived']\n",
    "print(prediction)"
   ]
  },
  {
   "cell_type": "code",
   "execution_count": 325,
   "metadata": {
    "collapsed": true
   },
   "outputs": [],
   "source": [
    "pd.DataFrame(prediction).to_csv('prediction.csv')"
   ]
  },
  {
   "cell_type": "code",
   "execution_count": null,
   "metadata": {
    "collapsed": true
   },
   "outputs": [],
   "source": []
  }
 ],
 "metadata": {
  "kernelspec": {
   "display_name": "Python 2",
   "language": "python",
   "name": "python2"
  },
  "language_info": {
   "codemirror_mode": {
    "name": "ipython",
    "version": 2
   },
   "file_extension": ".py",
   "mimetype": "text/x-python",
   "name": "python",
   "nbconvert_exporter": "python",
   "pygments_lexer": "ipython2",
   "version": "2.7.14"
  }
 },
 "nbformat": 4,
 "nbformat_minor": 2
}
